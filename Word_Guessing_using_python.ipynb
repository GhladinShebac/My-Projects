{
  "nbformat": 4,
  "nbformat_minor": 0,
  "metadata": {
    "colab": {
      "name": "Word Guessing using python.ipynb",
      "provenance": [],
      "collapsed_sections": []
    },
    "kernelspec": {
      "name": "python3",
      "display_name": "Python 3"
    },
    "language_info": {
      "name": "python"
    }
  },
  "cells": [
    {
      "cell_type": "code",
      "metadata": {
        "id": "NjK-L3bTaT3r"
      },
      "source": [
        "import random"
      ],
      "execution_count": 13,
      "outputs": []
    },
    {
      "cell_type": "code",
      "metadata": {
        "id": "hrphkd0QaDVQ"
      },
      "source": [
        "words = ['apple', 'oracle', 'amazon', 'microsoft', 'cat', 'orange', 'Dog', ]"
      ],
      "execution_count": 14,
      "outputs": []
    },
    {
      "cell_type": "code",
      "metadata": {
        "colab": {
          "base_uri": "https://localhost:8080/",
          "height": 35
        },
        "id": "niigSrAaXPu7",
        "outputId": "c154a7db-ed08-490e-8e9f-1d994e8e3dd4"
      },
      "source": [
        "#Choose random word from the list\n",
        "guessed_word = random.choice(words)\n",
        "guessed_word"
      ],
      "execution_count": 15,
      "outputs": [
        {
          "output_type": "execute_result",
          "data": {
            "application/vnd.google.colaboratory.intrinsic+json": {
              "type": "string"
            },
            "text/plain": [
              "'cat'"
            ]
          },
          "metadata": {
            "tags": []
          },
          "execution_count": 15
        }
      ]
    },
    {
      "cell_type": "code",
      "metadata": {
        "colab": {
          "base_uri": "https://localhost:8080/",
          "height": 35
        },
        "id": "pG7-euKXXEVO",
        "outputId": "717297fe-645f-4249-f9d8-96601fd67e59"
      },
      "source": [
        "hint = guessed_word[0]+guessed_word[-1]\n",
        "hint"
      ],
      "execution_count": 16,
      "outputs": [
        {
          "output_type": "execute_result",
          "data": {
            "application/vnd.google.colaboratory.intrinsic+json": {
              "type": "string"
            },
            "text/plain": [
              "'ct'"
            ]
          },
          "metadata": {
            "tags": []
          },
          "execution_count": 16
        }
      ]
    },
    {
      "cell_type": "code",
      "metadata": {
        "colab": {
          "base_uri": "https://localhost:8080/"
        },
        "id": "b6gZQnnBUEv-",
        "outputId": "3dbe6f74-0044-448f-f1a3-a31a5498d937"
      },
      "source": [
        "store_g_l=[]\n",
        "try_p =6\n",
        "a = input('enter your name')\n",
        "print('Welcome to the Game world', a)\n",
        "print('We are going to give you 6 attempts for the guessing')"
      ],
      "execution_count": 17,
      "outputs": [
        {
          "output_type": "stream",
          "text": [
            "enter your nameghlsdty\n",
            "Welcome to the Game world ghlsdty\n",
            "We are going to give you 6 attempts for the guessing\n"
          ],
          "name": "stdout"
        }
      ]
    },
    {
      "cell_type": "code",
      "metadata": {
        "colab": {
          "base_uri": "https://localhost:8080/",
          "height": 456
        },
        "id": "9p35uFlwV5sH",
        "outputId": "c8c10a6d-89e4-45be-d081-cc500a6e978f"
      },
      "source": [
        "for guess in range(try_p):\n",
        "  while True:\n",
        "    letter = input('Guess the letter :')\n",
        "\n",
        "    if len(letter) == 1:\n",
        "      break\n",
        "    else:\n",
        "      print(\"Oops! Please Guess a letter!\")\n",
        "\n",
        "  if letter in guessed_word:\n",
        "    print('!yes')\n",
        "    store_g_l.append(letter)\n",
        "  else:\n",
        "    print(\"no!\")\n",
        "\n",
        "  if guess == 3:\n",
        "    print()\n",
        "    clue_request = input(\"Would you like a clue?\")\n",
        "    if clue_request.lower().startswith('y'):\n",
        "      print()\n",
        "      print('CLUE: The first and last letter of the word is:',hint)\n",
        "    else:\n",
        "      print('You\\'re very confident!')\n",
        "\n",
        "print()\n",
        "print('''Now Let's see what have you guessed so far. You have guessed: ''',len(store_g_l), 'letters correctly.')\n",
        "print('These letters are.',store_g_l)\n",
        "\n",
        "word_guess = input(\"Guess the whole word: \")\n",
        "if word_guess.lower() == guessed_word:\n",
        "   print('Congrats! you are correct')\n",
        "else:\n",
        "   print('Sorry! The answer was,', guessed_word)\n",
        "\n",
        "print()\n",
        "input('Plese press Enter to leave the program')\n"
      ],
      "execution_count": 18,
      "outputs": [
        {
          "output_type": "stream",
          "text": [
            "Guess the letter :c\n",
            "!yes\n",
            "Guess the letter :u\n",
            "no!\n",
            "Guess the letter :a\n",
            "!yes\n",
            "Guess the letter :t\n",
            "!yes\n",
            "\n",
            "Would you like a clue?cat\n",
            "You're very confident!\n",
            "Guess the letter :cat\n",
            "Oops! Please Guess a letter!\n",
            "Guess the letter :t\n",
            "!yes\n",
            "Guess the letter :e\n",
            "no!\n",
            "\n",
            "Now Let's see what have you guessed so far. You have guessed:  4 letters correctly.\n",
            "These letters are. ['c', 'a', 't', 't']\n",
            "Guess the whole word: cat\n",
            "Congrats! you are correct\n",
            "\n",
            "Plese press Enter to leave the program\n"
          ],
          "name": "stdout"
        },
        {
          "output_type": "execute_result",
          "data": {
            "application/vnd.google.colaboratory.intrinsic+json": {
              "type": "string"
            },
            "text/plain": [
              "''"
            ]
          },
          "metadata": {
            "tags": []
          },
          "execution_count": 18
        }
      ]
    }
  ]
}