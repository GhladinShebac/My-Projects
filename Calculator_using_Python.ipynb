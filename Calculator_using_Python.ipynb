{
  "nbformat": 4,
  "nbformat_minor": 0,
  "metadata": {
    "colab": {
      "name": "Calculator using Python.ipynb",
      "provenance": []
    },
    "kernelspec": {
      "name": "python3",
      "display_name": "Python 3"
    },
    "language_info": {
      "name": "python"
    }
  },
  "cells": [
    {
      "cell_type": "code",
      "metadata": {
        "colab": {
          "base_uri": "https://localhost:8080/"
        },
        "id": "SHZs_va4b8Rl",
        "outputId": "bf32b280-9997-4284-e3a8-ecb2b6fd33a8"
      },
      "source": [
        "#This function adds two number\n",
        "def add(x,y):\n",
        "  return x+y\n",
        "#This function substract two number\n",
        "def subtract(x,y):\n",
        "  return x-y\n",
        "#This function multiplies two number\n",
        "def multiply(x,y):\n",
        "  return x*y\n",
        "#This function divides two number\n",
        "def divide(x,y):\n",
        "  return x/y\n",
        "\n",
        "\n",
        "while True:\n",
        "  #True input from the user\n",
        "  \n",
        "  print(\"Select operation.\")\n",
        "  print(\"1.Add\")\n",
        "  print(\"2.Substract\")\n",
        "  print(\"3.Multiply\")\n",
        "  print(\"4.Divide\")\n",
        "  choice = input(\"Enter choice(1/2/3/4): \")\n",
        "\n",
        "  #Check if choice is one of the four options\n",
        "  if choice in ('1', '2', '3', '4'):\n",
        "    num1 = float(input(\"Enter first number: \"))\n",
        "    num2 = float(input(\"Enter second number: \"))\n",
        "\n",
        "    if choice == '1':\n",
        "      print(num1, \"+\", num2, \"=\", add(num1, num2))\n",
        "    elif choice == '2':\n",
        "      print(num1, \"-\", num2, \"=\", subtract(num1, num2))\n",
        "    elif choice == '3':\n",
        "      print(num1, \"*\", num2, \"=\", multiply(num1, num2))\n",
        "    elif choice == '4':\n",
        "      print(num1, \"/\", num2, \"=\", divide(num1, num2))\n",
        "    break\n",
        "  else:\n",
        "    print(\"Invalid Input\")"
      ],
      "execution_count": 7,
      "outputs": [
        {
          "output_type": "stream",
          "text": [
            "Select operation.\n",
            "1.Add\n",
            "2.Substract\n",
            "3.Multiply\n",
            "4.Divide\n",
            "Enter choice(1/2/3/4): 4\n",
            "Enter first number: 40\n",
            "Enter second number: 2\n",
            "40.0 / 2.0 = 20.0\n"
          ],
          "name": "stdout"
        }
      ]
    }
  ]
}