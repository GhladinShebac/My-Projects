{
  "nbformat": 4,
  "nbformat_minor": 0,
  "metadata": {
    "colab": {
      "name": "Image  Processsing with Python.ipynb",
      "provenance": []
    },
    "kernelspec": {
      "name": "python3",
      "display_name": "Python 3"
    },
    "language_info": {
      "name": "python"
    },
    "accelerator": "GPU"
  },
  "cells": [
    {
      "cell_type": "code",
      "metadata": {
        "id": "bgtZNp4VFaLq"
      },
      "source": [
        "%pyplot inline\n",
        "import matplotlib.pyplot as plt\n",
        "import matplotlib.image as mping\n",
        "img-mping.imread('/content/test_set/test_set/cats/')\n",
        "imgplot =plt.inshow(img)\n",
        "plt.show()"
      ],
      "execution_count": null,
      "outputs": []
    },
    {
      "cell_type": "code",
      "metadata": {
        "id": "KVWcHhKsHkeT"
      },
      "source": [
        "img-mping.imread('/content/test_set/test_set/dog/')\n",
        "imgplot =plt.inshow(img)\n",
        "plt.show()"
      ],
      "execution_count": null,
      "outputs": []
    },
    {
      "cell_type": "markdown",
      "metadata": {
        "id": "TyAb4pU0H5Kr"
      },
      "source": [
        "Importing the Libraries"
      ]
    },
    {
      "cell_type": "code",
      "metadata": {
        "id": "yFYwtP5IH4yn"
      },
      "source": [
        "import tensorflow\n",
        "from tensorflow.keras.preprocessing.image import ImageDataGenerator\n",
        "from tensorflow.keras.models import Sequential\n",
        "from tensorflow.keras.layers import Dense, Conv2D, Flatten, Dropout, MaxPooling2D, Activation\n",
        "from tensorflow.keras.preprocessing import image\n",
        "import matplotlib.pyplot as plt\n",
        "import matplotlib.image as mpimg"
      ],
      "execution_count": 5,
      "outputs": []
    },
    {
      "cell_type": "markdown",
      "metadata": {
        "id": "47HIsRcxJOsR"
      },
      "source": [
        "Check the TensorFlow version"
      ]
    },
    {
      "cell_type": "code",
      "metadata": {
        "colab": {
          "base_uri": "https://localhost:8080/"
        },
        "id": "jiCUlvakJS0s",
        "outputId": "3060d563-0390-4c41-8f73-b67844404b14"
      },
      "source": [
        "print(tensorflow.__version__)"
      ],
      "execution_count": 6,
      "outputs": [
        {
          "output_type": "stream",
          "text": [
            "2.4.1\n"
          ],
          "name": "stdout"
        }
      ]
    },
    {
      "cell_type": "markdown",
      "metadata": {
        "id": "01vKjPvaJbVg"
      },
      "source": [
        "Desinging the Model\n",
        "\n",
        "Initialize the Parameter"
      ]
    },
    {
      "cell_type": "code",
      "metadata": {
        "id": "SlTCz82WJtSC"
      },
      "source": [
        "img_width, img_height = 150,150 #width amd height of the images\n",
        "train_data_dir = r\"\"\n",
        "validation_data_dir=r\"\"\n",
        "nb_train_sample = 100\n",
        "nb_validation_samples = 100\n",
        "epochs = 20\n",
        "batch_size =20"
      ],
      "execution_count": 7,
      "outputs": []
    },
    {
      "cell_type": "markdown",
      "metadata": {
        "id": "1mqR-mD0KSXf"
      },
      "source": [
        "Checking the Channels"
      ]
    },
    {
      "cell_type": "code",
      "metadata": {
        "id": "BnaViQu2KjfS"
      },
      "source": [
        "import tensorflow.keras.backend as k\n",
        "if k.image_data_format()=='channels_first':\n",
        "  imput_shape=(3, img_width, img_height)\n",
        "else:\n",
        "  input_shape=(img_width,img_height,3)"
      ],
      "execution_count": null,
      "outputs": []
    },
    {
      "cell_type": "markdown",
      "metadata": {
        "id": "xiUoSj1FLBVC"
      },
      "source": [
        "Generate Images to train the Model"
      ]
    },
    {
      "cell_type": "code",
      "metadata": {
        "id": "-L94kHbRLFP5"
      },
      "source": [
        "train_datagen=ImageDataGenerator (rescale=1./225,shear_range =0.2,horizontal_flip = True)\n",
        "\n",
        "test_datagen = ImageDataGenerator (rescale=1. /225)\n",
        "\n",
        "train_generator = train_datagen.floe_directory(train_data_dir, target_size =(img_width,img_height), batch_size=batch_size,class_mode='binay,classes=['cats','dogs'])\n",
        "#Now this, will generate training generator data\n",
        "#Target_size = mentioned image_width and image_hight\n",
        "#Batch_size =20 (already mentioned)\n",
        "#class_mode = binary(because here only two classes are there to classsify)\n",
        "\n",
        "validation_generator = test_datagen.flow_from_directory(validation_data_dir,target_size *(img_width,img_height), batch_size=batch_size,class_mode='binary')\n",
        "#Now this, will generate training generator data\n",
        "#Target_size = mentioned image_width and image_hight\n",
        "#Batch_size =20 (already mentioned)\n",
        "#class_mode = binary(because here only two classes are there to classsify)\n"
      ],
      "execution_count": null,
      "outputs": []
    }
  ]
}